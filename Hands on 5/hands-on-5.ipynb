{
 "cells": [
  {
   "cell_type": "code",
   "execution_count": 23,
   "id": "99d23840-36e9-4e64-9009-1d75c6e62e70",
   "metadata": {},
   "outputs": [],
   "source": [
    "class MinHeap:\n",
    "    def __init__(self, data=None):\n",
    "        self.heap = data if data else []\n",
    "        if self.heap:\n",
    "            self.build_min_heap()\n",
    "\n",
    "    def parent(self, i):\n",
    "        return (i - 1) >> 1 \n",
    "\n",
    "    def left(self, i):\n",
    "        return (i << 1) + 1  \n",
    "\n",
    "    def right(self, i):\n",
    "        return (i << 1) + 2 \n",
    "\n",
    "    def swap(self, i, j):\n",
    "        self.heap[i], self.heap[j] = self.heap[j], self.heap[i]\n",
    "\n",
    "    def heapify(self, i):\n",
    "        smallest = i\n",
    "        left = self.left(i)\n",
    "        right = self.right(i)\n",
    "\n",
    "        if left < len(self.heap) and self.heap[left] < self.heap[smallest]:\n",
    "            smallest = left\n",
    "        if right < len(self.heap) and self.heap[right] < self.heap[smallest]:\n",
    "            smallest = right\n",
    "\n",
    "        if smallest != i:\n",
    "            self.swap(i, smallest)\n",
    "            self.heapify(smallest)\n",
    "\n",
    "    def build_min_heap(self):\n",
    "        for i in range(len(self.heap) // 2 - 1, -1, -1):\n",
    "            self.heapify(i)\n",
    "\n",
    "    def push(self, value):\n",
    "        self.heap.append(value)\n",
    "        i = len(self.heap) - 1\n",
    "        while i > 0 and self.heap[self.parent(i)] > self.heap[i]:\n",
    "            self.swap(i, self.parent(i))\n",
    "            i = self.parent(i)\n",
    "\n",
    "    def pop(self):\n",
    "        if not self.heap:\n",
    "            raise IndexError(\"Heap is empty\")\n",
    "        root = self.heap[0]\n",
    "        last_element = self.heap.pop()\n",
    "        if self.heap:\n",
    "            self.heap[0] = last_element\n",
    "            self.heapify(0)\n",
    "        return root\n",
    "\n",
    "    def peek(self):\n",
    "        if not self.heap:\n",
    "            raise IndexError(\"Heap is empty\")\n",
    "        return self.heap[0]\n",
    "\n",
    "    def __repr__(self):\n",
    "        return str(self.heap)\n"
   ]
  },
  {
   "cell_type": "code",
   "execution_count": 25,
   "id": "7cbbf7c5-af0b-4e28-9d62-0244f7280ad4",
   "metadata": {},
   "outputs": [
    {
     "name": "stdout",
     "output_type": "stream",
     "text": [
      "Initial Data: [1, 20, 70, 1000, 100, 50, 2]\n",
      "Heap after build_min_heap: [1, 20, 2, 1000, 100, 50, 70]\n",
      "Heap after push(5): [1, 5, 2, 20, 100, 50, 70, 1000]\n",
      "Popped element: 1\n",
      "Heap after pop: [2, 5, 50, 20, 100, 1000, 70]\n",
      "Peek element: 2\n"
     ]
    }
   ],
   "source": [
    "if __name__ == \"__main__\":\n",
    "    data = [1, 20, 70, 1000, 100, 50, 2]\n",
    "    print(\"Initial Data:\", data)\n",
    "    \n",
    "    heap = MinHeap(data)\n",
    "    print(\"Heap after build_min_heap:\", heap)\n",
    "    \n",
    "    heap.push(5)\n",
    "    print(\"Heap after push(5):\", heap)\n",
    "    \n",
    "    min_element = heap.pop()\n",
    "    print(\"Popped element:\", min_element)\n",
    "    print(\"Heap after pop:\", heap)\n",
    "    \n",
    "    print(\"Peek element:\", heap.peek())\n"
   ]
  },
  {
   "cell_type": "code",
   "execution_count": null,
   "id": "c25926cf-3a28-48a6-9000-591c236e3709",
   "metadata": {},
   "outputs": [],
   "source": []
  }
 ],
 "metadata": {
  "kernelspec": {
   "display_name": "anaconda-2024.02-py310",
   "language": "python",
   "name": "conda-env-anaconda-2024.02-py310-py"
  },
  "language_info": {
   "codemirror_mode": {
    "name": "ipython",
    "version": 3
   },
   "file_extension": ".py",
   "mimetype": "text/x-python",
   "name": "python",
   "nbconvert_exporter": "python",
   "pygments_lexer": "ipython3",
   "version": "3.10.14"
  }
 },
 "nbformat": 4,
 "nbformat_minor": 5
}

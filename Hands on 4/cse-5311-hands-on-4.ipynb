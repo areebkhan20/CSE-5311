{
 "cells": [
  {
   "cell_type": "code",
   "execution_count": 54,
   "id": "3c7c1d82-9a6d-470b-9c58-355a111918b8",
   "metadata": {},
   "outputs": [
    {
     "name": "stdout",
     "output_type": "stream",
     "text": [
      "Result: 5\n"
     ]
    }
   ],
   "source": [
    "# Problem 0\n",
    "def fib(n):\n",
    "    if n == 0:\n",
    "        return 0\n",
    "    if n == 1:\n",
    "        return 1\n",
    "    return fib(n-1) + fib(n-2)\n",
    "\n",
    "print(f\"Result: {fib(5)}\")\n"
   ]
  },
  {
   "cell_type": "markdown",
   "id": "bf434d21-96eb-4333-8649-2fe6a8933ce5",
   "metadata": {},
   "source": [
    "fib(5)\n",
    "  fib(4)\n",
    "    fib(3)\n",
    "      fib(2)\n",
    "        fib(1) → returns 1\n",
    "        fib(0) → returns 0\n",
    "        returns 1 + 0 = 1\n",
    "      fib(1) → returns 1\n",
    "      returns 1 + 1 = 2\n",
    "    fib(2)\n",
    "      fib(1) → returns 1\n",
    "      fib(0) → returns 0\n",
    "      returns 1 + 0 = 1\n",
    "    returns 2 + 1 = 3\n",
    "  fib(3)\n",
    "    fib(2)\n",
    "      fib(1) → returns 1\n",
    "      fib(0) → returns 0\n",
    "      returns 1 + 0 = 1\n",
    "    fib(1) → returns 1\n",
    "    returns 1 + 1 = 2\n",
    "  returns 3 + 2 = 5"
   ]
  },
  {
   "cell_type": "code",
   "execution_count": 56,
   "id": "f6ecbf9a-2d28-4660-b37c-9b05d4f095b1",
   "metadata": {},
   "outputs": [],
   "source": [
    "# Problem 1.1\n",
    "import heapq\n",
    "\n",
    "def merge_k_sorted_arrays(arrays):\n",
    "    min_heap = []\n",
    "    result = []\n",
    "\n",
    "    # Push the first element from each array into the heap\n",
    "    for i, arr in enumerate(arrays):\n",
    "        if arr:  # If it is not empty\n",
    "            heapq.heappush(min_heap, (arr[0], i, 0))\n",
    "    \n",
    "    # Extract min and push the next element\n",
    "    while min_heap:\n",
    "        value, array_idx, element_idx = heapq.heappop(min_heap)\n",
    "        result.append(value)\n",
    "\n",
    "        # Push next element into the heap\n",
    "        if element_idx + 1 < len(arrays[array_idx]):\n",
    "            next_element = arrays[array_idx][element_idx + 1]\n",
    "            heapq.heappush(min_heap, (next_element, array_idx, element_idx + 1))\n",
    "    \n",
    "    return result"
   ]
  },
  {
   "cell_type": "code",
   "execution_count": 58,
   "id": "f9da7ff8-ee0b-4b49-a489-b58dfc785899",
   "metadata": {},
   "outputs": [
    {
     "name": "stdout",
     "output_type": "stream",
     "text": [
      "[0, 1, 2, 3, 4, 5, 6, 7, 8, 9, 10, 11]\n",
      "[1, 2, 3, 4, 7, 8, 9, 10, 11]\n"
     ]
    }
   ],
   "source": [
    "# Examples\n",
    "arrays1 = [[1, 3, 5, 7], [2, 4, 6, 8], [0, 9, 10, 11]]\n",
    "arrays2 = [[1, 3, 7], [2, 4, 8], [9, 10, 11]]\n",
    "\n",
    "print(merge_k_sorted_arrays(arrays1))\n",
    "print(merge_k_sorted_arrays(arrays2)) "
   ]
  },
  {
   "cell_type": "code",
   "execution_count": null,
   "id": "f34db409-0ee5-499d-a982-571859696082",
   "metadata": {},
   "outputs": [],
   "source": [
    "# Problem 1.2\n",
    "\n",
    "The algorithm merges K sorted arrays, each of size N, using a min-heap.\n",
    "\n",
    "1) Heap Operations: The heap holds at most K elements at any time. Inserting or removing an element in a heap takes O(log K).\n",
    "\n",
    "2) Total Number of Operations: There are K×N elements in total.\n",
    "\n",
    "3) Final Complexity: Since each push/pop operation takes O(log K) and we do it K×N times, Total time complexity = O(K N log K)."
   ]
  },
  {
   "cell_type": "code",
   "execution_count": null,
   "id": "c25e8cbf-80f2-4512-b316-3cb54657029f",
   "metadata": {},
   "outputs": [],
   "source": [
    "# Problem 1.3\n",
    "\n",
    "1) Could use a similar approach to merge sort and divide and conquer.\n",
    "\n",
    "2) Use parallel processing and multiple threads"
   ]
  },
  {
   "cell_type": "code",
   "execution_count": 60,
   "id": "a26d92ea-9508-46e0-a55d-fb79499500e6",
   "metadata": {},
   "outputs": [],
   "source": [
    "# Problem 2.1\n",
    "\n",
    "def remove_duplicates(arr):\n",
    "    if not arr:  # If array is empty\n",
    "        return []\n",
    "    \n",
    "    temp = arr[0]  \n",
    "    result = [temp] \n",
    "\n",
    "    for num in arr[1:]:\n",
    "        if num != temp:  \n",
    "            temp = num  \n",
    "            result.append(temp)  \n",
    "    \n",
    "    return result\n"
   ]
  },
  {
   "cell_type": "code",
   "execution_count": 62,
   "id": "0e0b7b05-e479-4698-89d6-6896c48460d0",
   "metadata": {},
   "outputs": [
    {
     "name": "stdout",
     "output_type": "stream",
     "text": [
      "[2]\n",
      "[1, 2, 3, 4, 5]\n"
     ]
    }
   ],
   "source": [
    "# Examples\n",
    "array1 = [2, 2, 2, 2, 2]\n",
    "array2 = [1, 2, 2, 3, 4, 4, 4, 5, 5]\n",
    "\n",
    "print(remove_duplicates(array1)) \n",
    "print(remove_duplicates(array2)) "
   ]
  },
  {
   "cell_type": "code",
   "execution_count": null,
   "id": "84462152-c4e9-49bb-acfa-64f6930b100e",
   "metadata": {},
   "outputs": [],
   "source": [
    "# Problem 2.2\n",
    "\n",
    "1) The algorithm goes through the array once. Each element is compared with temp (which is O(1) operation).\n",
    "\n",
    "2) The unique elements are stored in a result list (or in-place). Since we loop once over N elements, the time complexity is O(N).\n"
   ]
  },
  {
   "cell_type": "code",
   "execution_count": null,
   "id": "72be3c3e-9d57-4e1c-a5dc-e4980c42519c",
   "metadata": {},
   "outputs": [],
   "source": [
    "# Problem 2.3\n",
    "\n",
    "1) Instead of creating a new list, modify the original array to save space.\n",
    "\n",
    "2) Think of ways it can be done in O(log n) time complexity"
   ]
  }
 ],
 "metadata": {
  "kernelspec": {
   "display_name": "anaconda-2024.02-py310",
   "language": "python",
   "name": "conda-env-anaconda-2024.02-py310-py"
  },
  "language_info": {
   "codemirror_mode": {
    "name": "ipython",
    "version": 3
   },
   "file_extension": ".py",
   "mimetype": "text/x-python",
   "name": "python",
   "nbconvert_exporter": "python",
   "pygments_lexer": "ipython3",
   "version": "3.10.14"
  }
 },
 "nbformat": 4,
 "nbformat_minor": 5
}

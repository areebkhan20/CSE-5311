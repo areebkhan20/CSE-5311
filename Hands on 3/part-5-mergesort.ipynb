{
 "cells": [
  {
   "cell_type": "code",
   "execution_count": 1,
   "id": "90742714-a98b-47c7-9769-b70743714a11",
   "metadata": {},
   "outputs": [
    {
     "name": "stdout",
     "output_type": "stream",
     "text": [
      "Given array is\n",
      "5 2 4 7 1 3 2 6 \n",
      "\n",
      "Sorted array is\n",
      "1 2 2 3 4 5 6 7 "
     ]
    }
   ],
   "source": [
    "# Merge Sort\n",
    "\n",
    "def merge(arr, l, m, r):\n",
    "    n1 = m - l + 1\n",
    "    n2 = r - m\n",
    " \n",
    "    # create temp arrays\n",
    "    L = [0] * (n1)\n",
    "    R = [0] * (n2)\n",
    " \n",
    "    # Copy data to temp arrays L[] and R[]\n",
    "    for i in range(0, n1):\n",
    "        L[i] = arr[l + i]\n",
    " \n",
    "    for j in range(0, n2):\n",
    "        R[j] = arr[m + 1 + j]\n",
    " \n",
    "    # Merge the temp arrays back into arr[l..r]\n",
    "    i = 0     # Initial index of first subarray\n",
    "    j = 0     # Initial index of second subarray\n",
    "    k = l     # Initial index of merged subarray\n",
    " \n",
    "    while i < n1 and j < n2:\n",
    "        if L[i] <= R[j]:\n",
    "            arr[k] = L[i]\n",
    "            i += 1\n",
    "        else:\n",
    "            arr[k] = R[j]\n",
    "            j += 1\n",
    "        k += 1\n",
    " \n",
    "    # Copy the remaining elements of L[], if there are any\n",
    "    while i < n1:\n",
    "        arr[k] = L[i]\n",
    "        i += 1\n",
    "        k += 1\n",
    " \n",
    "    # Copy the remaining elements of R[], if there are any\n",
    "    while j < n2:\n",
    "        arr[k] = R[j]\n",
    "        j += 1\n",
    "        k += 1\n",
    "        \n",
    "def mergeSort(arr, l, r):\n",
    "    if l < r:\n",
    "\n",
    "        m = l+(r-l)//2\n",
    " \n",
    "        # Sort first and second halves\n",
    "        mergeSort(arr, l, m)\n",
    "        mergeSort(arr, m+1, r)\n",
    "        merge(arr, l, m, r)\n",
    " \n",
    " \n",
    "# Implementing Sort\n",
    "arr = [5, 2, 4, 7, 1, 3, 2, 6]\n",
    "n = len(arr)\n",
    "print(\"Given array is\")\n",
    "for i in range(n):\n",
    "    print(\"%d\" % arr[i],end=\" \")\n",
    " \n",
    "mergeSort(arr, 0, n-1)\n",
    "print(\"\\n\\nSorted array is\")\n",
    "for i in range(n):\n",
    "    print(\"%d\" % arr[i],end=\" \")"
   ]
  },
  {
   "cell_type": "code",
   "execution_count": null,
   "id": "ba45cee1-3304-4f0a-b3b3-ac563ce23a28",
   "metadata": {},
   "outputs": [],
   "source": []
  }
 ],
 "metadata": {
  "kernelspec": {
   "display_name": "anaconda-2024.02-py310",
   "language": "python",
   "name": "conda-env-anaconda-2024.02-py310-py"
  },
  "language_info": {
   "codemirror_mode": {
    "name": "ipython",
    "version": 3
   },
   "file_extension": ".py",
   "mimetype": "text/x-python",
   "name": "python",
   "nbconvert_exporter": "python",
   "pygments_lexer": "ipython3",
   "version": "3.10.14"
  }
 },
 "nbformat": 4,
 "nbformat_minor": 5
}
